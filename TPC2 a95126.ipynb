{
 "cells": [
  {
   "cell_type": "markdown",
   "id": "dd7d9682",
   "metadata": {},
   "source": [
    "# TPC2- Adivinha o número"
   ]
  },
  {
   "cell_type": "markdown",
   "id": "88705c56",
   "metadata": {},
   "source": [
    "Neste jogo o computador irá tentar adivinhar o mais rápido possível o número inteiro, entre 0 e 100, que o utilizador escolher."
   ]
  },
  {
   "cell_type": "code",
   "execution_count": null,
   "id": "897b5123",
   "metadata": {},
   "outputs": [
    {
     "name": "stdout",
     "output_type": "stream",
     "text": [
      "Escolha um número inteiro de 0 a 100.\n",
      "O número é igual a 50 ?\n"
     ]
    }
   ],
   "source": [
    "def adivinhaonum ():\n",
    "    c=1\n",
    "    yant=100/(2**c)\n",
    "    print(\"Escolha um número inteiro de 0 a 100.\")\n",
    "    print(\"O número é igual a\", int(yant), \"?\")\n",
    "    num=input(\"Diga Sim (s) ou Não(n):\")\n",
    "\n",
    "    while num==\"n\":\n",
    "        opção=input(\"Então diga se é maior (+) ou menor (-):\")\n",
    "        if opção==\"+\":\n",
    "            c=c+1\n",
    "            y=100/(2**c)\n",
    "            print (\"O número é o:\", int(yant+y), \"?\")\n",
    "            num=input(\"Diga Sim (s) ou Não (n):\")\n",
    "            yant=yant+y    \n",
    "        if opção==\"-\":\n",
    "             c=c+1\n",
    "             y=100/(2**c)\n",
    "             print (\"O número é o:\", int(yant-y), \"?\")\n",
    "             num=input(\"Diga Sim (s) ou Não (n):\")\n",
    "             yant=yant-y\n",
    "        elif opção!=\"+\" and opção!=\"-\":\n",
    "            print (\"Insira um caracter válido!\")\n",
    "          \n",
    "    if num==\"s\":\n",
    "        print (\"O computador adivinhou o seu número!\")\n",
    "    \n",
    "    elif num!=\"s\" and num!=\"n\":\n",
    "        print (\"Insira um caracter válido!\")\n",
    "       \n",
    "                \n",
    "adivinhaonum ()"
   ]
  }
 ],
 "metadata": {
  "kernelspec": {
   "display_name": "Python 3",
   "language": "python",
   "name": "python3"
  },
  "language_info": {
   "codemirror_mode": {
    "name": "ipython",
    "version": 3
   },
   "file_extension": ".py",
   "mimetype": "text/x-python",
   "name": "python",
   "nbconvert_exporter": "python",
   "pygments_lexer": "ipython3",
   "version": "3.8.8"
  }
 },
 "nbformat": 4,
 "nbformat_minor": 5
}
