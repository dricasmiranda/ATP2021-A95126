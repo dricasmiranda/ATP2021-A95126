{
 "cells": [
  {
   "cell_type": "markdown",
   "id": "68fb59d4",
   "metadata": {},
   "source": [
    "# Lista ordenada\n",
    "__Keyname:__ TPC 3 Título: Bubble Sort- ordenar lista  \n",
    "__Data de início:__ 2021/10/21  \n",
    "__Data de fim:__ 2021/10/28  \n",
    "__Supervisor:__ [José Carlos Leite Ramalho](https://algoritmi.uminho.pt/user/jose-carlos-leite-ramalho/)  \n",
    "__Autora:__ Adriana Meireles Miranda, a95126    \n",
    "__Resumo:__ Neste trabalho criamos uma função que pede ao utilizador o número de elementos que deseja ter na lista, crie uma lista aleatória com o número de elementos pretendidos, veja o maior número de uma lista criada anteriormente, ordenene a lista através do Bubble Sort que compara um número com o seguinte na lista e se esse número for superior troca-os de posição até que a lista esteja ordenada de forma crescente e, por fim, que termina o programa."
   ]
  },
  {
   "cell_type": "code",
   "execution_count": 1,
   "id": "28e43b80",
   "metadata": {},
   "outputs": [
    {
     "name": "stdout",
     "output_type": "stream",
     "text": [
      "Quantos elementos deseja que tenha a sua lista?3\n",
      "A sua lista com os valores desordenados:  [57, 50, 90]\n",
      "[50, 57, 90]\n",
      "A lista ordenada é a seguinte:  [50, 57, 90]\n"
     ]
    }
   ],
   "source": [
    "from random import randint\n",
    "def listacrescente():\n",
    "    n = int(input('Quantos elementos deseja que tenha a sua lista?'))\n",
    "    L=[]\n",
    "    for i in range (n):\n",
    "        x = randint(0,100)\n",
    "        L.append (x)\n",
    "    print ('A sua lista com os valores desordenados: ',L)\n",
    "    \n",
    "    for j in range(len(L)):\n",
    "        troca=False\n",
    "        while j<(len(L)-1):\n",
    "            if L[j] > L[j+1]:\n",
    "                L[j],L[j+1] = L[j+1],L[j]\n",
    "                print(L)\n",
    "                troca=True\n",
    "            j=j+1\n",
    "        if troca == False:\n",
    "                break\n",
    "    print('A lista ordenada é a seguinte: ',L)\n",
    "        \n",
    "listacrescente()"
   ]
  },
  {
   "cell_type": "code",
   "execution_count": null,
   "id": "5d7803c7",
   "metadata": {},
   "outputs": [],
   "source": []
  }
 ],
 "metadata": {
  "kernelspec": {
   "display_name": "Python 3",
   "language": "python",
   "name": "python3"
  },
  "language_info": {
   "codemirror_mode": {
    "name": "ipython",
    "version": 3
   },
   "file_extension": ".py",
   "mimetype": "text/x-python",
   "name": "python",
   "nbconvert_exporter": "python",
   "pygments_lexer": "ipython3",
   "version": "3.8.8"
  }
 },
 "nbformat": 4,
 "nbformat_minor": 5
}
