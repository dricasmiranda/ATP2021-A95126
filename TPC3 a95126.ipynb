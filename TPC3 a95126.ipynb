{
 "cells": [
  {
   "cell_type": "markdown",
   "id": "83ad090a",
   "metadata": {},
   "source": [
    "# Lista ordenada\n",
    "\n",
    "**Keyname**: TPC 3 \n",
    "**Título**: Bubble Sort- ordenar lista   \n",
    "**Data de início:** 2020/10/21   \n",
    "**Data de fim:** 2020/10/28  \n",
    "**Supervisor:** [José Carlos Leite Ramalho](https://algoritmi.uminho.pt/user/jose-carlos-leite-ramalho/)  \n",
    "**Autor:** Adriana Meireles Miranda, a95126 \n",
    "**Resumo:** Neste trabalho criamos uma função que pede ao utilizador o número de elementos que deseja ter na lista, crie uma lista aleatória com o número de elementos pretendidos, veja o maior número de uma lista criada anteriormente, ordenene a lista através do Bubble Sort que compara um número com o seguinte na lista e se esse número for superior troca-os de posição até que a lista esteja ordenada de forma crescente e, por fim, que termina o programa. "
   ]
  },
  {
   "cell_type": "code",
   "execution_count": 1,
   "id": "599ac4f9",
   "metadata": {},
   "outputs": [
    {
     "name": "stdout",
     "output_type": "stream",
     "text": [
      "Quantos elementos deseja que tenha a sua lista?4\n",
      "A sua lista com os valores desordenados:  [22, 77, 46, 41]\n",
      "[22, 46, 77, 41]\n",
      "[22, 46, 41, 77]\n",
      "[22, 41, 46, 77]\n",
      "A lista ordenada é a seguinte:  [22, 41, 46, 77]\n"
     ]
    }
   ],
   "source": [
    "from random import randint\n",
    "def listacrescente():\n",
    "    n = int(input('Quantos elementos deseja que tenha a sua lista?'))\n",
    "    L=[]\n",
    "    for i in range (n):\n",
    "        x = randint(0,100)\n",
    "        L.append (x)\n",
    "    print ('A sua lista com os valores desordenados: ',L)\n",
    "    \n",
    "    for j in range(len(L)):\n",
    "        troca=False\n",
    "        j=0\n",
    "        while j<(len(L)-1):\n",
    "            if L[j] > L[j+1]:\n",
    "                L[j],L[j+1] = L[j+1],L[j]\n",
    "                print(L)\n",
    "                troca=True\n",
    "            j=j+1\n",
    "        if troca == False:\n",
    "                break\n",
    "    print('A lista ordenada é a seguinte: ',L)\n",
    "        \n",
    "        \n",
    "        \n",
    "\n",
    "listacrescente()"
   ]
  }
 ],
 "metadata": {
  "kernelspec": {
   "display_name": "Python 3",
   "language": "python",
   "name": "python3"
  },
  "language_info": {
   "codemirror_mode": {
    "name": "ipython",
    "version": 3
   },
   "file_extension": ".py",
   "mimetype": "text/x-python",
   "name": "python",
   "nbconvert_exporter": "python",
   "pygments_lexer": "ipython3",
   "version": "3.8.8"
  }
 },
 "nbformat": 4,
 "nbformat_minor": 5
}
