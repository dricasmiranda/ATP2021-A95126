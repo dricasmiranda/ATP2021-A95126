{
 "cells": [
  {
   "cell_type": "markdown",
   "metadata": {},
   "source": [
    "# Ficha técnica\n",
    "\n",
    "__Keyname:__ TPC 7  \n",
    "__Título:__ Manipulação de base de dados  \n",
    "__Data de início:__ 2021/11/25  \n",
    "__Data de fim:__ 2021/12/02  \n",
    "__Supervisor:__ [José Carlos Leite Ramalho](https://algoritmi.uminho.pt/user/jose-carlos-leite-ramalho/)  \n",
    "__Autora:__ Adriana Meireles Miranda, a95126    \n",
    "__Resumo:__ Neste trabalho irei concluir o trabalho realizado na aula prática (2021/11/25) onde fizemos exercícios sobre leitura de datasets, seu processamento e produção de dados estatísticos."
   ]
  },
  {
   "cell_type": "markdown",
   "metadata": {},
   "source": [
    "## Dataset\n",
    "\n",
    "Para a resolução dos exercícios desta ficha, descarrega o dataset de alunos do site da UC.\n",
    "\n",
    "### Estrutura do dataset\n",
    "O dataset tem a seguinte estrutura:\n",
    "\n",
    "```\n",
    "id_aluno,nome,curso,tpc1,tpc2,tpc3,tpc4\n",
    "\"a1\",\"Aysha Melanie Gilberto\",\"LEI\",12,8,19,8\n",
    "\"a2\",\"Igor André Cantanhede\",\"ENGFIS\",12,16,18,20\n",
    "\"a3\",\"Laurénio Narciso\",\"ENGFIS\",8,14,15,14\n",
    "\"a4\",\"Jasnoor Casegas\",\"LCC\",14,20,17,11\n",
    "\"a5\",\"Tawseef Rebouças\",\"ENGBIOM\",13,14,13,17\n",
    "\"a6\",\"Eryk Clementino\",\"LEI\",10,19,11,14\n",
    "...\n",
    "```"
   ]
  },
  {
   "cell_type": "markdown",
   "metadata": {},
   "source": [
    "## Leitura (exercício 1)\n",
    "\n",
    "Depois de pensares num modelo adequado especifica a função que lê o ficheiro e povoa esse modelo."
   ]
  },
  {
   "cell_type": "code",
   "execution_count": 1,
   "metadata": {},
   "outputs": [
    {
     "name": "stdout",
     "output_type": "stream",
     "text": [
      "C:\\Users\\HPAdmin\\Desktop\\UNI\\2º ANO\\1ºsemestre\\ATP\\Aulas TP\n"
     ]
    }
   ],
   "source": [
    "import os\n",
    "print(os.getcwd())"
   ]
  },
  {
   "cell_type": "code",
   "execution_count": 3,
   "metadata": {},
   "outputs": [],
   "source": [
    "#BDAlunos=[Alunos]\n",
    "#Aluno={id:\"...\", nome:\"...\", curso:\"...\", tpc:[int]}\n",
    "\n",
    "# Leitura/carregamento da informação do ficheiro\n",
    "def lerDataset(fnome):\n",
    "    bd=[]\n",
    "    f=open(fnome,encoding=\"utf-8\")\n",
    "    f.readline()#Vai ler já a primeira linha de forma a que quando entrar no ciclo de for já esteje a ler a partir da mesma\n",
    "    for linha in f: #Já vai iterar na segunda linha\n",
    "        novaLinha= linha.replace(\"\\n\",\"\") #Tirar o \"\\n\" de maneira universal\n",
    "        campos=novaLinha.split(\",\")\n",
    "        aluno={}\n",
    "        aluno[\"id\"]=campos[0]\n",
    "        aluno[\"nome\"]=campos[1]\n",
    "        aluno[\"curso\"]=campos[2]\n",
    "        listaTPC=[]\n",
    "        for tpc in campos[3:]: #Lista de inteiros\n",
    "            listaTPC.append(int(tpc))\n",
    "        aluno[\"tpc\"]=listaTPC #do 3º índice até ao fim\n",
    "        bd.append(aluno)\n",
    "    return bd"
   ]
  },
  {
   "cell_type": "code",
   "execution_count": 4,
   "metadata": {},
   "outputs": [
    {
     "name": "stdout",
     "output_type": "stream",
     "text": [
      "[{'id': '\"a1\"', 'nome': '\"Aysha Melanie Gilberto\"', 'curso': '\"LEI\"', 'tpc': [12, 8, 19, 8]}, {'id': '\"a2\"', 'nome': '\"Igor André Cantanhede\"', 'curso': '\"ENGFIS\"', 'tpc': [12, 16, 18, 20]}, {'id': '\"a3\"', 'nome': '\"Laurénio Narciso\"', 'curso': '\"ENGFIS\"', 'tpc': [8, 14, 15, 14]}, {'id': '\"a4\"', 'nome': '\"Jasnoor Casegas\"', 'curso': '\"LCC\"', 'tpc': [14, 20, 17, 11]}, {'id': '\"a5\"', 'nome': '\"Tawseef Rebouças\"', 'curso': '\"ENGBIOM\"', 'tpc': [13, 14, 13, 17]}, {'id': '\"a6\"', 'nome': '\"Eryk Clementino\"', 'curso': '\"LEI\"', 'tpc': [10, 19, 11, 14]}, {'id': '\"a7\"', 'nome': '\"Ianna Noivo\"', 'curso': '\"ENGBIOM\"', 'tpc': [15, 15, 17, 16]}, {'id': '\"a8\"', 'nome': '\"Ayla Thaissa Reina\"', 'curso': '\"ENGBIOM\"', 'tpc': [12, 8, 8, 18]}, {'id': '\"a9\"', 'nome': '\"Cássia Viviane Coitã\"', 'curso': '\"ENGFIS\"', 'tpc': [19, 9, 14, 10]}, {'id': '\"a10\"', 'nome': '\"Koby Vindima\"', 'curso': '\"LEI\"', 'tpc': [9, 14, 20, 13]}, {'id': '\"a11\"', 'nome': '\"Gustavo Martim Hernandez\"', 'curso': '\"ENGBIOM\"', 'tpc': [11, 8, 14, 11]}, {'id': '\"a12\"', 'nome': '\"Siddarta Beiriz\"', 'curso': '\"LEI\"', 'tpc': [17, 10, 16, 16]}, {'id': '\"a13\"', 'nome': '\"Daniela Patrícia Montes\"', 'curso': '\"ENGBIOM\"', 'tpc': [15, 15, 18, 19]}, {'id': '\"a14\"', 'nome': '\"Kaylla Pessego\"', 'curso': '\"LCC\"', 'tpc': [10, 14, 17, 15]}, {'id': '\"a15\"', 'nome': '\"Bianca Cristina Primitivo\"', 'curso': '\"ENGBIOM\"', 'tpc': [16, 9, 18, 10]}, {'id': '\"a16\"', 'nome': '\"Magna Galhardo\"', 'curso': '\"ENGFIS\"', 'tpc': [20, 18, 9, 14]}, {'id': '\"a17\"', 'nome': '\"Grace Isabel Patriarca\"', 'curso': '\"LCC\"', 'tpc': [19, 13, 9, 10]}, {'id': '\"a18\"', 'nome': '\"Saubhagya Buco\"', 'curso': '\"LEI\"', 'tpc': [18, 18, 17, 8]}, {'id': '\"a19\"', 'nome': '\"Ivo Vicente Boisa\"', 'curso': '\"ENGBIOM\"', 'tpc': [14, 10, 18, 13]}, {'id': '\"a20\"', 'nome': '\"Vivaan Castilhos\"', 'curso': '\"ENGFIS\"', 'tpc': [15, 14, 11, 12]}, {'id': '\"a21\"', 'nome': '\"Layana Camejo\"', 'curso': '\"ENGFIS\"', 'tpc': [17, 12, 10, 20]}, {'id': '\"a22\"', 'nome': '\"Mahdi Menoita\"', 'curso': '\"ENGFIS\"', 'tpc': [11, 16, 8, 16]}, {'id': '\"a23\"', 'nome': '\"Yifan Cortinado\"', 'curso': '\"LEI\"', 'tpc': [19, 16, 8, 18]}, {'id': '\"a24\"', 'nome': '\"Éder Sodré\"', 'curso': '\"ENGFIS\"', 'tpc': [17, 13, 14, 12]}, {'id': '\"a25\"', 'nome': '\"Dhriti Magano\"', 'curso': '\"ENGFIS\"', 'tpc': [19, 11, 8, 19]}, {'id': '\"a26\"', 'nome': '\"Steve Devesa\"', 'curso': '\"ENGBIOM\"', 'tpc': [10, 16, 8, 13]}, {'id': '\"a27\"', 'nome': '\"Lisandro Mariano Picassinos\"', 'curso': '\"ENGFIS\"', 'tpc': [13, 10, 16, 10]}, {'id': '\"a28\"', 'nome': '\"Itiel Quinoy\"', 'curso': '\"LEI\"', 'tpc': [18, 18, 8, 9]}, {'id': '\"a29\"', 'nome': '\"Pranika Reimoo\"', 'curso': '\"LEI\"', 'tpc': [12, 16, 15, 13]}, {'id': '\"a30\"', 'nome': '\"Manaia Viseu\"', 'curso': '\"ENGFIS\"', 'tpc': [8, 12, 20, 11]}, {'id': '\"a31\"', 'nome': '\"Eva Manuel Caio\"', 'curso': '\"ENGFIS\"', 'tpc': [12, 16, 20, 16]}, {'id': '\"a32\"', 'nome': '\"Ariane Sofia Foja\"', 'curso': '\"LEI\"', 'tpc': [20, 19, 13, 18]}, {'id': '\"a33\"', 'nome': '\"Jaime António Pauseiro\"', 'curso': '\"LCC\"', 'tpc': [19, 13, 8, 10]}, {'id': '\"a34\"', 'nome': '\"Tanisha Marzagoo\"', 'curso': '\"ENGBIOM\"', 'tpc': [14, 19, 13, 14]}, {'id': '\"a35\"', 'nome': '\"Siyon Anca\"', 'curso': '\"LEI\"', 'tpc': [8, 13, 19, 15]}, {'id': '\"a36\"', 'nome': '\"Diana Beatriz Boavista\"', 'curso': '\"LCC\"', 'tpc': [19, 18, 17, 12]}, {'id': '\"a37\"', 'nome': '\"Elisiário Saberio\"', 'curso': '\"ENGFIS\"', 'tpc': [18, 18, 10, 19]}, {'id': '\"a38\"', 'nome': '\"Maira Brites\"', 'curso': '\"ENGFIS\"', 'tpc': [13, 16, 15, 17]}, {'id': '\"a39\"', 'nome': '\"Victória Gabriela Incenso\"', 'curso': '\"LEI\"', 'tpc': [17, 14, 13, 8]}, {'id': '\"a40\"', 'nome': '\"Najua Serôdio\"', 'curso': '\"LCC\"', 'tpc': [17, 9, 16, 18]}, {'id': '\"a41\"', 'nome': '\"Lachezar Rosas\"', 'curso': '\"ENGBIOM\"', 'tpc': [16, 18, 18, 15]}, {'id': '\"a42\"', 'nome': '\"Kattleya Trigueiro\"', 'curso': '\"ENGFIS\"', 'tpc': [19, 16, 14, 15]}, {'id': '\"a43\"', 'nome': '\"Tatiana Guiomar Maricoto\"', 'curso': '\"LCC\"', 'tpc': [19, 8, 15, 11]}, {'id': '\"a44\"', 'nome': '\"Mélanie Daniela Bugalhão\"', 'curso': '\"LCC\"', 'tpc': [17, 9, 17, 18]}, {'id': '\"a45\"', 'nome': '\"Imayame Hespanha\"', 'curso': '\"ENGFIS\"', 'tpc': [20, 17, 19, 11]}, {'id': '\"a46\"', 'nome': '\"Yuri Gabriel Baganha\"', 'curso': '\"LCC\"', 'tpc': [15, 18, 12, 16]}, {'id': '\"a47\"', 'nome': '\"Moisés João Cornelio\"', 'curso': '\"LEI\"', 'tpc': [20, 16, 19, 17]}, {'id': '\"a48\"', 'nome': '\"Nazir Assif Trinta\"', 'curso': '\"LEI\"', 'tpc': [14, 14, 12, 8]}, {'id': '\"a49\"', 'nome': '\"Karamjot Arezes\"', 'curso': '\"LEI\"', 'tpc': [10, 9, 20, 12]}, {'id': '\"a50\"', 'nome': '\"Rishit Justa\"', 'curso': '\"ENGBIOM\"', 'tpc': [9, 9, 9, 12]}, {'id': '\"a51\"', 'nome': '\"Iara de Jesus Gonçalo\"', 'curso': '\"ENGFIS\"', 'tpc': [14, 8, 12, 14]}, {'id': '\"a52\"', 'nome': '\"Stepfan Owusu Lercas\"', 'curso': '\"LEI\"', 'tpc': [18, 9, 16, 14]}, {'id': '\"a53\"', 'nome': '\"Abner Umbelina\"', 'curso': '\"ENGBIOM\"', 'tpc': [20, 16, 10, 13]}, {'id': '\"a54\"', 'nome': '\"Dânia Lucy Montelobo\"', 'curso': '\"LEI\"', 'tpc': [18, 19, 15, 11]}, {'id': '\"a55\"', 'nome': '\"Myla Lopez\"', 'curso': '\"ENGFIS\"', 'tpc': [9, 17, 12, 20]}, {'id': '\"a56\"', 'nome': '\"Hakeem Brazão\"', 'curso': '\"LEI\"', 'tpc': [18, 18, 13, 20]}, {'id': '\"a57\"', 'nome': '\"Quinn Aveiro\"', 'curso': '\"ENGBIOM\"', 'tpc': [17, 16, 9, 13]}, {'id': '\"a58\"', 'nome': '\"Etienne Constentino\"', 'curso': '\"ENGBIOM\"', 'tpc': [15, 8, 9, 13]}, {'id': '\"a59\"', 'nome': '\"Emanuel Marcos Delfina\"', 'curso': '\"LEI\"', 'tpc': [9, 15, 8, 13]}, {'id': '\"a60\"', 'nome': '\"Mariana Catarina Ramalheira\"', 'curso': '\"ENGBIOM\"', 'tpc': [17, 19, 19, 11]}, {'id': '\"a61\"', 'nome': '\"Bradley Tabau\"', 'curso': '\"LCC\"', 'tpc': [16, 19, 16, 12]}, {'id': '\"a62\"', 'nome': '\"Ahmadou Bamba Calcinha\"', 'curso': '\"LCC\"', 'tpc': [13, 20, 8, 16]}, {'id': '\"a63\"', 'nome': '\"Francisco Pedro Derresa\"', 'curso': '\"ENGFIS\"', 'tpc': [8, 12, 20, 18]}, {'id': '\"a64\"', 'nome': '\"Gil Miguel Lima\"', 'curso': '\"ENGBIOM\"', 'tpc': [16, 19, 8, 14]}, {'id': '\"a65\"', 'nome': '\"Leonor Pedro Carqueijeiro\"', 'curso': '\"ENGBIOM\"', 'tpc': [19, 11, 17, 8]}, {'id': '\"a66\"', 'nome': '\"Genrikh Maximovich Vila-Chã\"', 'curso': '\"ENGFIS\"', 'tpc': [12, 15, 13, 9]}, {'id': '\"a67\"', 'nome': '\"Mayra Larissa Rolo\"', 'curso': '\"LCC\"', 'tpc': [15, 14, 17, 12]}, {'id': '\"a68\"', 'nome': '\"Leandro David Dunhoo\"', 'curso': '\"ENGBIOM\"', 'tpc': [15, 14, 11, 15]}, {'id': '\"a69\"', 'nome': '\"Adele Belchior\"', 'curso': '\"ENGBIOM\"', 'tpc': [17, 12, 20, 12]}, {'id': '\"a70\"', 'nome': '\"Frantceska Borreca\"', 'curso': '\"ENGFIS\"', 'tpc': [18, 11, 19, 8]}, {'id': '\"a71\"', 'nome': '\"Derrick Urias\"', 'curso': '\"ENGFIS\"', 'tpc': [11, 10, 8, 14]}, {'id': '\"a72\"', 'nome': '\"Ana Gabriel Quirino\"', 'curso': '\"LCC\"', 'tpc': [10, 17, 8, 19]}, {'id': '\"a73\"', 'nome': '\"Carolina Antoo\"', 'curso': '\"ENGBIOM\"', 'tpc': [16, 19, 20, 10]}, {'id': '\"a74\"', 'nome': '\"Vânia Sofia Porfirio\"', 'curso': '\"ENGBIOM\"', 'tpc': [18, 19, 18, 15]}, {'id': '\"a75\"', 'nome': '\"Dárcio Wosvaldo Tudela\"', 'curso': '\"LEI\"', 'tpc': [8, 18, 9, 18]}, {'id': '\"a76\"', 'nome': '\"Zhara Couxão\"', 'curso': '\"ENGFIS\"', 'tpc': [16, 10, 14, 12]}, {'id': '\"a77\"', 'nome': '\"Tomé Ferrito\"', 'curso': '\"LCC\"', 'tpc': [14, 10, 15, 19]}, {'id': '\"a78\"', 'nome': '\"Iasmin Paloma Chaveiro\"', 'curso': '\"LCC\"', 'tpc': [8, 15, 19, 9]}, {'id': '\"a79\"', 'nome': '\"Sadagi Cruto\"', 'curso': '\"ENGBIOM\"', 'tpc': [13, 18, 14, 18]}, {'id': '\"a80\"', 'nome': '\"Maria Carolina Josué\"', 'curso': '\"ENGFIS\"', 'tpc': [17, 20, 17, 18]}, {'id': '\"a81\"', 'nome': '\"Quaresma Lancastre\"', 'curso': '\"ENGBIOM\"', 'tpc': [17, 9, 16, 19]}, {'id': '\"a82\"', 'nome': '\"Evaldir Gervasio\"', 'curso': '\"ENGFIS\"', 'tpc': [16, 19, 15, 8]}, {'id': '\"a83\"', 'nome': '\"Dolorinda Adolfo\"', 'curso': '\"ENGFIS\"', 'tpc': [11, 20, 16, 8]}, {'id': '\"a84\"', 'nome': '\"Laudário Frasão\"', 'curso': '\"LCC\"', 'tpc': [20, 19, 10, 19]}, {'id': '\"a85\"', 'nome': '\"Rómula Jeronimo\"', 'curso': '\"ENGFIS\"', 'tpc': [10, 13, 12, 11]}, {'id': '\"a86\"', 'nome': '\"Clésio Rodeiro\"', 'curso': '\"LCC\"', 'tpc': [9, 13, 12, 18]}, {'id': '\"a87\"', 'nome': '\"Feliciano José Avis\"', 'curso': '\"ENGFIS\"', 'tpc': [9, 11, 10, 9]}, {'id': '\"a88\"', 'nome': '\"Afonso Adriano Marca\"', 'curso': '\"ENGBIOM\"', 'tpc': [8, 16, 12, 15]}, {'id': '\"a89\"', 'nome': '\"Victória Miguel Rosete\"', 'curso': '\"ENGFIS\"', 'tpc': [8, 13, 13, 18]}, {'id': '\"a90\"', 'nome': '\"Tome Teroso\"', 'curso': '\"ENGFIS\"', 'tpc': [9, 9, 10, 17]}, {'id': '\"a91\"', 'nome': '\"Constança Filipa Melado\"', 'curso': '\"LEI\"', 'tpc': [10, 12, 8, 20]}, {'id': '\"a92\"', 'nome': '\"Madalena Jesus Alfaiate\"', 'curso': '\"LEI\"', 'tpc': [17, 14, 9, 17]}, {'id': '\"a93\"', 'nome': '\"Bivhan Reimbau\"', 'curso': '\"LCC\"', 'tpc': [17, 11, 8, 12]}, {'id': '\"a94\"', 'nome': '\"Viviana Sofia Gaspar\"', 'curso': '\"ENGBIOM\"', 'tpc': [16, 16, 20, 14]}, {'id': '\"a95\"', 'nome': '\"Íris Soraia Chiote\"', 'curso': '\"LEI\"', 'tpc': [11, 11, 17, 16]}, {'id': '\"a96\"', 'nome': '\"Anaïs Sintra\"', 'curso': '\"LCC\"', 'tpc': [19, 19, 12, 9]}, {'id': '\"a97\"', 'nome': '\"Salvador Banaca\"', 'curso': '\"LCC\"', 'tpc': [12, 9, 20, 12]}, {'id': '\"a98\"', 'nome': '\"Guilherme Matias Almeirão\"', 'curso': '\"ENGFIS\"', 'tpc': [14, 9, 12, 11]}, {'id': '\"a99\"', 'nome': '\"Xavier Luís Bulha\"', 'curso': '\"ENGFIS\"', 'tpc': [17, 13, 8, 10]}, {'id': '\"a100\"', 'nome': '\"Tude Searas\"', 'curso': '\"LEI\"', 'tpc': [20, 17, 8, 14]}]\n"
     ]
    }
   ],
   "source": [
    "BDalunos= lerDataset(\"alunos.csv\")\n",
    "print(BDalunos)"
   ]
  },
  {
   "cell_type": "markdown",
   "metadata": {},
   "source": [
    "## Listagem (exercício 2)\n",
    "\n",
    "Especifica uma função que faça a listagem no monitor dos vários registos de informação.\n",
    "Tenta dar a forma duma tabela em que as colunas têm todas a mesma dimensão."
   ]
  },
  {
   "cell_type": "code",
   "execution_count": 7,
   "metadata": {},
   "outputs": [],
   "source": [
    "# Listagem da informação\n",
    "def listarDataset(bd):\n",
    "    print(\"  id   |    nome    |    curso    |     tpcs\")\n",
    "    print(\"---------------------------------------------\")\n",
    "    for a in bd:\n",
    "        print(a[\"id\"] + \"|\" + a[\"nome\"] + \"|\" + a[\"curso\"] + \"|\" + str(a[\"tpc\"]))"
   ]
  },
  {
   "cell_type": "code",
   "execution_count": 6,
   "metadata": {},
   "outputs": [
    {
     "name": "stdout",
     "output_type": "stream",
     "text": [
      "  id   |    nome    |    curso    |     tpcs\n",
      "---------------------------------------------\n",
      "\"a1\"|\"Aysha Melanie Gilberto\"|\"LEI\"|[12, 8, 19, 8]\n",
      "\"a2\"|\"Igor André Cantanhede\"|\"ENGFIS\"|[12, 16, 18, 20]\n",
      "\"a3\"|\"Laurénio Narciso\"|\"ENGFIS\"|[8, 14, 15, 14]\n",
      "\"a4\"|\"Jasnoor Casegas\"|\"LCC\"|[14, 20, 17, 11]\n",
      "\"a5\"|\"Tawseef Rebouças\"|\"ENGBIOM\"|[13, 14, 13, 17]\n",
      "\"a6\"|\"Eryk Clementino\"|\"LEI\"|[10, 19, 11, 14]\n",
      "\"a7\"|\"Ianna Noivo\"|\"ENGBIOM\"|[15, 15, 17, 16]\n",
      "\"a8\"|\"Ayla Thaissa Reina\"|\"ENGBIOM\"|[12, 8, 8, 18]\n",
      "\"a9\"|\"Cássia Viviane Coitã\"|\"ENGFIS\"|[19, 9, 14, 10]\n",
      "\"a10\"|\"Koby Vindima\"|\"LEI\"|[9, 14, 20, 13]\n",
      "\"a11\"|\"Gustavo Martim Hernandez\"|\"ENGBIOM\"|[11, 8, 14, 11]\n",
      "\"a12\"|\"Siddarta Beiriz\"|\"LEI\"|[17, 10, 16, 16]\n",
      "\"a13\"|\"Daniela Patrícia Montes\"|\"ENGBIOM\"|[15, 15, 18, 19]\n",
      "\"a14\"|\"Kaylla Pessego\"|\"LCC\"|[10, 14, 17, 15]\n",
      "\"a15\"|\"Bianca Cristina Primitivo\"|\"ENGBIOM\"|[16, 9, 18, 10]\n",
      "\"a16\"|\"Magna Galhardo\"|\"ENGFIS\"|[20, 18, 9, 14]\n",
      "\"a17\"|\"Grace Isabel Patriarca\"|\"LCC\"|[19, 13, 9, 10]\n",
      "\"a18\"|\"Saubhagya Buco\"|\"LEI\"|[18, 18, 17, 8]\n",
      "\"a19\"|\"Ivo Vicente Boisa\"|\"ENGBIOM\"|[14, 10, 18, 13]\n",
      "\"a20\"|\"Vivaan Castilhos\"|\"ENGFIS\"|[15, 14, 11, 12]\n",
      "\"a21\"|\"Layana Camejo\"|\"ENGFIS\"|[17, 12, 10, 20]\n",
      "\"a22\"|\"Mahdi Menoita\"|\"ENGFIS\"|[11, 16, 8, 16]\n",
      "\"a23\"|\"Yifan Cortinado\"|\"LEI\"|[19, 16, 8, 18]\n",
      "\"a24\"|\"Éder Sodré\"|\"ENGFIS\"|[17, 13, 14, 12]\n",
      "\"a25\"|\"Dhriti Magano\"|\"ENGFIS\"|[19, 11, 8, 19]\n",
      "\"a26\"|\"Steve Devesa\"|\"ENGBIOM\"|[10, 16, 8, 13]\n",
      "\"a27\"|\"Lisandro Mariano Picassinos\"|\"ENGFIS\"|[13, 10, 16, 10]\n",
      "\"a28\"|\"Itiel Quinoy\"|\"LEI\"|[18, 18, 8, 9]\n",
      "\"a29\"|\"Pranika Reimoo\"|\"LEI\"|[12, 16, 15, 13]\n",
      "\"a30\"|\"Manaia Viseu\"|\"ENGFIS\"|[8, 12, 20, 11]\n",
      "\"a31\"|\"Eva Manuel Caio\"|\"ENGFIS\"|[12, 16, 20, 16]\n",
      "\"a32\"|\"Ariane Sofia Foja\"|\"LEI\"|[20, 19, 13, 18]\n",
      "\"a33\"|\"Jaime António Pauseiro\"|\"LCC\"|[19, 13, 8, 10]\n",
      "\"a34\"|\"Tanisha Marzagoo\"|\"ENGBIOM\"|[14, 19, 13, 14]\n",
      "\"a35\"|\"Siyon Anca\"|\"LEI\"|[8, 13, 19, 15]\n",
      "\"a36\"|\"Diana Beatriz Boavista\"|\"LCC\"|[19, 18, 17, 12]\n",
      "\"a37\"|\"Elisiário Saberio\"|\"ENGFIS\"|[18, 18, 10, 19]\n",
      "\"a38\"|\"Maira Brites\"|\"ENGFIS\"|[13, 16, 15, 17]\n",
      "\"a39\"|\"Victória Gabriela Incenso\"|\"LEI\"|[17, 14, 13, 8]\n",
      "\"a40\"|\"Najua Serôdio\"|\"LCC\"|[17, 9, 16, 18]\n",
      "\"a41\"|\"Lachezar Rosas\"|\"ENGBIOM\"|[16, 18, 18, 15]\n",
      "\"a42\"|\"Kattleya Trigueiro\"|\"ENGFIS\"|[19, 16, 14, 15]\n",
      "\"a43\"|\"Tatiana Guiomar Maricoto\"|\"LCC\"|[19, 8, 15, 11]\n",
      "\"a44\"|\"Mélanie Daniela Bugalhão\"|\"LCC\"|[17, 9, 17, 18]\n",
      "\"a45\"|\"Imayame Hespanha\"|\"ENGFIS\"|[20, 17, 19, 11]\n",
      "\"a46\"|\"Yuri Gabriel Baganha\"|\"LCC\"|[15, 18, 12, 16]\n",
      "\"a47\"|\"Moisés João Cornelio\"|\"LEI\"|[20, 16, 19, 17]\n",
      "\"a48\"|\"Nazir Assif Trinta\"|\"LEI\"|[14, 14, 12, 8]\n",
      "\"a49\"|\"Karamjot Arezes\"|\"LEI\"|[10, 9, 20, 12]\n",
      "\"a50\"|\"Rishit Justa\"|\"ENGBIOM\"|[9, 9, 9, 12]\n",
      "\"a51\"|\"Iara de Jesus Gonçalo\"|\"ENGFIS\"|[14, 8, 12, 14]\n",
      "\"a52\"|\"Stepfan Owusu Lercas\"|\"LEI\"|[18, 9, 16, 14]\n",
      "\"a53\"|\"Abner Umbelina\"|\"ENGBIOM\"|[20, 16, 10, 13]\n",
      "\"a54\"|\"Dânia Lucy Montelobo\"|\"LEI\"|[18, 19, 15, 11]\n",
      "\"a55\"|\"Myla Lopez\"|\"ENGFIS\"|[9, 17, 12, 20]\n",
      "\"a56\"|\"Hakeem Brazão\"|\"LEI\"|[18, 18, 13, 20]\n",
      "\"a57\"|\"Quinn Aveiro\"|\"ENGBIOM\"|[17, 16, 9, 13]\n",
      "\"a58\"|\"Etienne Constentino\"|\"ENGBIOM\"|[15, 8, 9, 13]\n",
      "\"a59\"|\"Emanuel Marcos Delfina\"|\"LEI\"|[9, 15, 8, 13]\n",
      "\"a60\"|\"Mariana Catarina Ramalheira\"|\"ENGBIOM\"|[17, 19, 19, 11]\n",
      "\"a61\"|\"Bradley Tabau\"|\"LCC\"|[16, 19, 16, 12]\n",
      "\"a62\"|\"Ahmadou Bamba Calcinha\"|\"LCC\"|[13, 20, 8, 16]\n",
      "\"a63\"|\"Francisco Pedro Derresa\"|\"ENGFIS\"|[8, 12, 20, 18]\n",
      "\"a64\"|\"Gil Miguel Lima\"|\"ENGBIOM\"|[16, 19, 8, 14]\n",
      "\"a65\"|\"Leonor Pedro Carqueijeiro\"|\"ENGBIOM\"|[19, 11, 17, 8]\n",
      "\"a66\"|\"Genrikh Maximovich Vila-Chã\"|\"ENGFIS\"|[12, 15, 13, 9]\n",
      "\"a67\"|\"Mayra Larissa Rolo\"|\"LCC\"|[15, 14, 17, 12]\n",
      "\"a68\"|\"Leandro David Dunhoo\"|\"ENGBIOM\"|[15, 14, 11, 15]\n",
      "\"a69\"|\"Adele Belchior\"|\"ENGBIOM\"|[17, 12, 20, 12]\n",
      "\"a70\"|\"Frantceska Borreca\"|\"ENGFIS\"|[18, 11, 19, 8]\n",
      "\"a71\"|\"Derrick Urias\"|\"ENGFIS\"|[11, 10, 8, 14]\n",
      "\"a72\"|\"Ana Gabriel Quirino\"|\"LCC\"|[10, 17, 8, 19]\n",
      "\"a73\"|\"Carolina Antoo\"|\"ENGBIOM\"|[16, 19, 20, 10]\n",
      "\"a74\"|\"Vânia Sofia Porfirio\"|\"ENGBIOM\"|[18, 19, 18, 15]\n",
      "\"a75\"|\"Dárcio Wosvaldo Tudela\"|\"LEI\"|[8, 18, 9, 18]\n",
      "\"a76\"|\"Zhara Couxão\"|\"ENGFIS\"|[16, 10, 14, 12]\n",
      "\"a77\"|\"Tomé Ferrito\"|\"LCC\"|[14, 10, 15, 19]\n",
      "\"a78\"|\"Iasmin Paloma Chaveiro\"|\"LCC\"|[8, 15, 19, 9]\n",
      "\"a79\"|\"Sadagi Cruto\"|\"ENGBIOM\"|[13, 18, 14, 18]\n",
      "\"a80\"|\"Maria Carolina Josué\"|\"ENGFIS\"|[17, 20, 17, 18]\n",
      "\"a81\"|\"Quaresma Lancastre\"|\"ENGBIOM\"|[17, 9, 16, 19]\n",
      "\"a82\"|\"Evaldir Gervasio\"|\"ENGFIS\"|[16, 19, 15, 8]\n",
      "\"a83\"|\"Dolorinda Adolfo\"|\"ENGFIS\"|[11, 20, 16, 8]\n",
      "\"a84\"|\"Laudário Frasão\"|\"LCC\"|[20, 19, 10, 19]\n",
      "\"a85\"|\"Rómula Jeronimo\"|\"ENGFIS\"|[10, 13, 12, 11]\n",
      "\"a86\"|\"Clésio Rodeiro\"|\"LCC\"|[9, 13, 12, 18]\n",
      "\"a87\"|\"Feliciano José Avis\"|\"ENGFIS\"|[9, 11, 10, 9]\n",
      "\"a88\"|\"Afonso Adriano Marca\"|\"ENGBIOM\"|[8, 16, 12, 15]\n",
      "\"a89\"|\"Victória Miguel Rosete\"|\"ENGFIS\"|[8, 13, 13, 18]\n",
      "\"a90\"|\"Tome Teroso\"|\"ENGFIS\"|[9, 9, 10, 17]\n",
      "\"a91\"|\"Constança Filipa Melado\"|\"LEI\"|[10, 12, 8, 20]\n",
      "\"a92\"|\"Madalena Jesus Alfaiate\"|\"LEI\"|[17, 14, 9, 17]\n",
      "\"a93\"|\"Bivhan Reimbau\"|\"LCC\"|[17, 11, 8, 12]\n",
      "\"a94\"|\"Viviana Sofia Gaspar\"|\"ENGBIOM\"|[16, 16, 20, 14]\n",
      "\"a95\"|\"Íris Soraia Chiote\"|\"LEI\"|[11, 11, 17, 16]\n",
      "\"a96\"|\"Anaïs Sintra\"|\"LCC\"|[19, 19, 12, 9]\n",
      "\"a97\"|\"Salvador Banaca\"|\"LCC\"|[12, 9, 20, 12]\n",
      "\"a98\"|\"Guilherme Matias Almeirão\"|\"ENGFIS\"|[14, 9, 12, 11]\n",
      "\"a99\"|\"Xavier Luís Bulha\"|\"ENGFIS\"|[17, 13, 8, 10]\n",
      "\"a100\"|\"Tude Searas\"|\"LEI\"|[20, 17, 8, 14]\n"
     ]
    }
   ],
   "source": [
    "listarDataset(BDalunos)"
   ]
  },
  {
   "cell_type": "markdown",
   "metadata": {},
   "source": [
    "## Consulta de um registo (exercício 3)\n",
    "\n",
    "Especifica uma função que, dado o id de um aluno, coloca a sua informação no monitor. Para além disso, indica também a média dos TPC realizados."
   ]
  },
  {
   "cell_type": "code",
   "execution_count": 12,
   "metadata": {},
   "outputs": [
    {
     "name": "stdout",
     "output_type": "stream",
     "text": [
      "Introduza o Id do aluno:a5\n",
      "\"a5\"|\"Tawseef Rebouças\"|\"ENGBIOM\"|14.25\n"
     ]
    }
   ],
   "source": [
    "def consultarDataset(bd, id):\n",
    "    for a in bd:\n",
    "        if (str(id)==a[\"id\"].replace('\"','')):\n",
    "            return(a[\"id\"]+\"|\"+a[\"nome\"]+\"|\"+a[\"curso\"]\n",
    "                 +\"|\"+str(sum(a[\"tpc\"])/len(a[\"tpc\"])))\n",
    "idaluno=str(input(\"Introduza o Id do aluno:\"))\n",
    "print(consultarDataset(BDalunos,idaluno))"
   ]
  },
  {
   "cell_type": "markdown",
   "metadata": {},
   "source": [
    "## Top 10 (exercício 4)\n",
    "\n",
    "Especifica um função que dá como resultado uma lista com os alunos com as 10 médias mais altas: id, nome, curso, média."
   ]
  },
  {
   "cell_type": "code",
   "execution_count": 13,
   "metadata": {},
   "outputs": [
    {
     "name": "stdout",
     "output_type": "stream",
     "text": [
      "\"a47\"|\"Moisés João Cornelio\"|\"LEI\"|18.0\n",
      "\"a80\"|\"Maria Carolina Josué\"|\"ENGFIS\"|18.0\n",
      "\"a32\"|\"Ariane Sofia Foja\"|\"LEI\"|17.5\n",
      "\"a74\"|\"Vânia Sofia Porfirio\"|\"ENGBIOM\"|17.5\n",
      "\"a56\"|\"Hakeem Brazão\"|\"LEI\"|17.25\n",
      "\"a84\"|\"Laudário Frasão\"|\"LCC\"|17.0\n",
      "\"a13\"|\"Daniela Patrícia Montes\"|\"ENGBIOM\"|16.75\n",
      "\"a41\"|\"Lachezar Rosas\"|\"ENGBIOM\"|16.75\n",
      "\"a45\"|\"Imayame Hespanha\"|\"ENGFIS\"|16.75\n",
      "\"a60\"|\"Mariana Catarina Ramalheira\"|\"ENGBIOM\"|16.5\n"
     ]
    }
   ],
   "source": [
    "def top10(bd):\n",
    "    listaMedia=[]\n",
    "    for a in bd:\n",
    "        a[\"tpc\"]= sum(a[\"tpc\"])/len(a[\"tpc\"])\n",
    "        listaMedia.append(a[\"tpc\"])\n",
    "        listaMedia.sort()\n",
    "        listaMedia.reverse()\n",
    "    n=0\n",
    "    while(n<10):\n",
    "        for a in bd:\n",
    "            if listaMedia[n]==a[\"tpc\"] and n<10:\n",
    "                n=n+1\n",
    "                print(a[\"id\"] + \"|\" + a[\"nome\"] + \"|\" + a[\"curso\"] + \"|\" + str(a[\"tpc\"]))              \n",
    "top10(lerDataset(\"alunos.csv\"))"
   ]
  },
  {
   "cell_type": "markdown",
   "metadata": {},
   "source": [
    "## Distribuição por curso (exercício 5)\n",
    "\n",
    "Especifica uma função que dá como resultado uma lista de pares indicando quantos alunos há em cada curso."
   ]
  },
  {
   "cell_type": "code",
   "execution_count": 16,
   "metadata": {},
   "outputs": [],
   "source": [
    "def distribPorCurso(bd): #Os dicionários premitem tratar os dados em várias situações\n",
    "    distribuicao={}\n",
    "    for a in bd:\n",
    "        if(a['curso'] in distribuicao.keys()):\n",
    "            distribuicao[a['curso']]+=1\n",
    "        else:\n",
    "            distribuicao[a['curso']]=1\n",
    "    return distribuicao"
   ]
  },
  {
   "cell_type": "code",
   "execution_count": 17,
   "metadata": {},
   "outputs": [
    {
     "name": "stdout",
     "output_type": "stream",
     "text": [
      "{'\"LEI\"': 23, '\"ENGFIS\"': 32, '\"LCC\"': 20, '\"ENGBIOM\"': 25}\n"
     ]
    }
   ],
   "source": [
    "mydistrib = distribPorCurso(BDalunos)\n",
    "print(mydistrib)"
   ]
  },
  {
   "cell_type": "markdown",
   "metadata": {},
   "source": [
    "## Distribuição por médias (exercício 6)\n",
    "\n",
    "Especifica uma função que dá como resultado uma lista de pares, média e número de alunos com essa média (considera o valor inteiro da média)."
   ]
  },
  {
   "cell_type": "code",
   "execution_count": 18,
   "metadata": {},
   "outputs": [],
   "source": [
    "import collections\n",
    "def distribPorMedia(bd):\n",
    "    media={}\n",
    "    for a in bd:\n",
    "        medias=int(sum(a[\"tpc\"])/len(a[\"tpc\"]))\n",
    "        if(medias in media.keys()):\n",
    "            media[medias]+=1\n",
    "        else:\n",
    "            media[medias]=1\n",
    "    result = collections.OrderedDict(sorted(media.items()))\n",
    "    media=dict(result)\n",
    "    return media"
   ]
  },
  {
   "cell_type": "code",
   "execution_count": 19,
   "metadata": {},
   "outputs": [
    {
     "name": "stdout",
     "output_type": "stream",
     "text": [
      "{9: 2, 10: 1, 11: 9, 12: 15, 13: 20, 14: 21, 15: 15, 16: 11, 17: 4, 18: 2}\n"
     ]
    }
   ],
   "source": [
    "mydistribmed=distribPorMedia(BDalunos)\n",
    "print(mydistribmed)"
   ]
  },
  {
   "cell_type": "markdown",
   "metadata": {},
   "source": [
    "# Gráficos\n",
    "\n",
    "## Gráfico da distribuição por curso (exercício 7)\n",
    "\n",
    "Especifica uma função que faz o plot dum gráfico com a distribuição de alunos por curso."
   ]
  },
  {
   "cell_type": "code",
   "execution_count": 26,
   "metadata": {},
   "outputs": [],
   "source": [
    "import matplotlib.pyplot as plt\n",
    "def plotDistribPorCurso(distrib):\n",
    "    cursos = distrib.keys()\n",
    "    nAlunos = distrib.values()\n",
    "    plt.xlabel(\"Cursos\")\n",
    "    plt.ylabel(\"Nº de alunos\")\n",
    "    plt.title(\"Distribuição por curso:\")\n",
    "    plt.bar(cursos,nAlunos, color=[\"pink\", \"red\"])"
   ]
  },
  {
   "cell_type": "code",
   "execution_count": 27,
   "metadata": {},
   "outputs": [
    {
     "data": {
      "image/png": "[encoded data removed]",
      "text/plain": [
       "<Figure size 432x288 with 1 Axes>"
      ]
     },
     "metadata": {
      "needs_background": "light"
     },
     "output_type": "display_data"
    }
   ],
   "source": [
    "plotDistribPorCurso(distribPorCurso(lerDataset(\"alunos.csv\")))"
   ]
  },
  {
   "cell_type": "markdown",
   "metadata": {},
   "source": [
    "## Gráfico da distribuição por média (exercício 8)\n",
    "\n",
    "Especifica uma função que faz o plot dum gráfico com a distribuição de alunos por média."
   ]
  },
  {
   "cell_type": "code",
   "execution_count": 29,
   "metadata": {},
   "outputs": [],
   "source": [
    "def plotDistribPorMedia(medias):\n",
    "    import matplotlib.pyplot as plt\n",
    " \n",
    "\n",
    "    left = [1, 2, 3, 4,5,6,7,8,9,10]\n",
    " \n",
    "    height = [mydistribmed[9],mydistribmed[10] ,mydistribmed[11],mydistribmed[12],\n",
    "              mydistribmed[13],mydistribmed[14],mydistribmed[15],mydistribmed[16],mydistribmed[17],mydistribmed[18]]\n",
    " \n",
    "    tick_label = [9,10,11,12,13,14,15,16,17,18]\n",
    "\n",
    "    plt.bar(left, height, tick_label = tick_label, #Tá a dar o nome as barras\n",
    "            width = 0.8, color = ['orange', 'gold']) #largura da barra e cor delas\n",
    " \n",
    "   \n",
    "    plt.xlabel('Média')\n",
    "\n",
    "    plt.ylabel('Nº de alunos')\n",
    " \n",
    "    plt.title('Distribuição de alunos por Média')\n",
    " \n",
    "    plt.show()"
   ]
  },
  {
   "cell_type": "code",
   "execution_count": 30,
   "metadata": {},
   "outputs": [
    {
     "data": {
      "image/png": "[encoded data removed]",
      "text/plain": [
       "<Figure size 432x288 with 1 Axes>"
      ]
     },
     "metadata": {
      "needs_background": "light"
     },
     "output_type": "display_data"
    }
   ],
   "source": [
    "plotDistribPorMedia(mydistribmed)"
   ]
  }
 ],
 "metadata": {
  "interpreter": {
   "hash": "aee8b7b246df8f9039afb4144a1f6fd8d2ca17a180786b69acc140d282b71a49"
  },
  "kernelspec": {
   "display_name": "Python 3",
   "language": "python",
   "name": "python3"
  },
  "language_info": {
   "codemirror_mode": {
    "name": "ipython",
    "version": 3
   },
   "file_extension": ".py",
   "mimetype": "text/x-python",
   "name": "python",
   "nbconvert_exporter": "python",
   "pygments_lexer": "ipython3",
   "version": "3.8.8"
  }
 },
 "nbformat": 4,
 "nbformat_minor": 2
}
